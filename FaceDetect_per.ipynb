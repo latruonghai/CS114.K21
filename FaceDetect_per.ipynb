{
  "nbformat": 4,
  "nbformat_minor": 0,
  "metadata": {
    "colab": {
      "name": "Untitled8.ipynb",
      "provenance": [],
      "authorship_tag": "ABX9TyO+brgWP2Hpp0N37AjgKqL0",
      "include_colab_link": true
    },
    "kernelspec": {
      "name": "python3",
      "display_name": "Python 3"
    }
  },
  "cells": [
    {
      "cell_type": "markdown",
      "metadata": {
        "id": "view-in-github",
        "colab_type": "text"
      },
      "source": [
        "<a href=\"https://colab.research.google.com/github/latruonghai/CS114.K21/blob/master/FaceDetect_per.ipynb\" target=\"_parent\"><img src=\"https://colab.research.google.com/assets/colab-badge.svg\" alt=\"Open In Colab\"/></a>"
      ]
    },
    {
      "cell_type": "code",
      "metadata": {
        "id": "O3izln983hwG",
        "colab_type": "code",
        "colab": {
          "base_uri": "https://localhost:8080/",
          "height": 289
        },
        "outputId": "8b725cb3-57db-49bf-ffb5-3d4fd25cdd53"
      },
      "source": [
        "#La Truong Hai - 18520698\n",
        "# Import thư viện cv2 để detect face\n",
        "import numpy as np\n",
        "from numpy import random\n",
        "import cv2\n",
        "import os\n",
        "#import dlib\n",
        "\n",
        "faceCasCade = cv2.CascadeClassifier(\"haarcascade_frontalface_default.xml\")\n",
        "cap = cv2.VideoCapture(0)\n",
        "\n",
        "\n",
        "# Doc hinh\n",
        "#hai = ['./MTPs/MTP'+str(i)+'.jpg' for i in range(1,188) if i not in [89,152]]\n",
        "files = input(\"Nhap ten Folder : \")\n",
        "createf = files.replace(\".com\",\"\")\n",
        "name_file = input(\"Nhập tên file đi nào: \")\n",
        "name_files = input(\"Nhập tên file cần test\")\n",
        "sampleNum = 0\n",
        "path = '/home/lahai/Downloads/MyTam//'\n",
        "pathFolder = path + name_files\n",
        "for img1 in os.listdir(pathFolder):\n",
        "    file_name = pathFolder + '/'+img1\n",
        "    img = cv2.imread(file_name)\n",
        "    #img = cv2.equalizeHist(img)\n",
        "    #img = cv2.resize(img,(400,400))\n",
        "    img_yuv = cv2.cvtColor(img, cv2.COLOR_BGR2YUV)\n",
        "    img_yuv[:,:,0] = cv2.equalizeHist(img_yuv[:,:,0])\n",
        "\n",
        "# convert the YUV image back to RGB format\n",
        "    img_output = cv2.cvtColor(img_yuv, cv2.COLOR_YUV2BGR)\n",
        "    #grayImag = cv2.cvtColor(img,cv2.COLOR_BGR2GRAY)\n",
        "    face = faceCasCade.detectMultiScale(\n",
        "            img_output,\n",
        "            scaleFactor = 1.1,\n",
        "            minNeighbors = 5,\n",
        "            minSize = (30,30))\n",
        "    #Vẽ các đường màu xanh lá quanh khuôn mặt\n",
        "    for (x,y,w,h) in face:\n",
        "        sampleNum=sampleNum+1\n",
        "        image = img[y:y+h,x:x+w]\n",
        "        #Lưu ảnh khuôn mặt vào thư mục có tên(creatình\n",
        "        if not os.path.exists(path +'/'+createf): os.mkdir(path +'/'+createf)\n",
        "        # Thểm ảnh xoay\n",
        "        # Thêm ảnh đã cắt\n",
        "        cv2.imwrite(path+'/'+createf+\"/\"+name_file+'-'+ str(sampleNum) + \".jpg\", cv2.resize(image,(216,216)))\n",
        "    # Hiển thị ra màn hình\n",
        "        cv2.rectangle(img,(x,y),(x+w,y+h),(0,255,0), 2)\n",
        "        #if sampleNum>200:\n",
        "            #break\n",
        "    cv2.imshow(\"Face Detection \", img)\n",
        "    cv2.waitKey(1)\n",
        "cap.release()\n",
        "cv2.destroyAllWindows()\n",
        "\n",
        "#y_train = tf.keras.utils.to_categorical(y_train, no_classes)\n",
        "#y_test = tf.keras.utils.to_categorical(y_test, no_classes)\n",
        "\n",
        "\n",
        "\n",
        "# Run xvfb-run python yourcode.py"
      ],
      "execution_count": 3,
      "outputs": [
        {
          "output_type": "stream",
          "text": [
            "Nhap ten Folder : N\n",
            "Nhập tên file đi nào: D\n",
            "Nhập tên file cần testNDLN1\n"
          ],
          "name": "stdout"
        },
        {
          "output_type": "error",
          "ename": "FileNotFoundError",
          "evalue": "ignored",
          "traceback": [
            "\u001b[0;31m---------------------------------------------------------------------------\u001b[0m",
            "\u001b[0;31mFileNotFoundError\u001b[0m                         Traceback (most recent call last)",
            "\u001b[0;32m<ipython-input-3-6f79ed467958>\u001b[0m in \u001b[0;36m<module>\u001b[0;34m()\u001b[0m\n\u001b[1;32m     21\u001b[0m \u001b[0mpath\u001b[0m \u001b[0;34m=\u001b[0m \u001b[0;34m'/home/lahai/Downloads/MyTam//'\u001b[0m\u001b[0;34m\u001b[0m\u001b[0;34m\u001b[0m\u001b[0m\n\u001b[1;32m     22\u001b[0m \u001b[0mpathFolder\u001b[0m \u001b[0;34m=\u001b[0m \u001b[0mpath\u001b[0m \u001b[0;34m+\u001b[0m \u001b[0mname_files\u001b[0m\u001b[0;34m\u001b[0m\u001b[0;34m\u001b[0m\u001b[0m\n\u001b[0;32m---> 23\u001b[0;31m \u001b[0;32mfor\u001b[0m \u001b[0mimg1\u001b[0m \u001b[0;32min\u001b[0m \u001b[0mos\u001b[0m\u001b[0;34m.\u001b[0m\u001b[0mlistdir\u001b[0m\u001b[0;34m(\u001b[0m\u001b[0mpathFolder\u001b[0m\u001b[0;34m)\u001b[0m\u001b[0;34m:\u001b[0m\u001b[0;34m\u001b[0m\u001b[0;34m\u001b[0m\u001b[0m\n\u001b[0m\u001b[1;32m     24\u001b[0m     \u001b[0mfile_name\u001b[0m \u001b[0;34m=\u001b[0m \u001b[0mpathFolder\u001b[0m \u001b[0;34m+\u001b[0m \u001b[0;34m'/'\u001b[0m\u001b[0;34m+\u001b[0m\u001b[0mimg1\u001b[0m\u001b[0;34m\u001b[0m\u001b[0;34m\u001b[0m\u001b[0m\n\u001b[1;32m     25\u001b[0m     \u001b[0mimg\u001b[0m \u001b[0;34m=\u001b[0m \u001b[0mcv2\u001b[0m\u001b[0;34m.\u001b[0m\u001b[0mimread\u001b[0m\u001b[0;34m(\u001b[0m\u001b[0mfile_name\u001b[0m\u001b[0;34m)\u001b[0m\u001b[0;34m\u001b[0m\u001b[0;34m\u001b[0m\u001b[0m\n",
            "\u001b[0;31mFileNotFoundError\u001b[0m: [Errno 2] No such file or directory: '/home/lahai/Downloads/MyTam//NDLN1'"
          ]
        }
      ]
    },
    {
      "cell_type": "code",
      "metadata": {
        "id": "U8rB05SG5KmH",
        "colab_type": "code",
        "colab": {}
      },
      "source": [
        ""
      ],
      "execution_count": null,
      "outputs": []
    }
  ]
}