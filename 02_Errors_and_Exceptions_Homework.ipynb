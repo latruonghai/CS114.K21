{
  "nbformat": 4,
  "nbformat_minor": 0,
  "metadata": {
    "kernelspec": {
      "display_name": "Python 3",
      "language": "python",
      "name": "python3"
    },
    "language_info": {
      "codemirror_mode": {
        "name": "ipython",
        "version": 3
      },
      "file_extension": ".py",
      "mimetype": "text/x-python",
      "name": "python",
      "nbconvert_exporter": "python",
      "pygments_lexer": "ipython3",
      "version": "3.6.2"
    },
    "colab": {
      "name": "02-Errors and Exceptions Homework.ipynb",
      "provenance": [],
      "include_colab_link": true
    }
  },
  "cells": [
    {
      "cell_type": "markdown",
      "metadata": {
        "id": "view-in-github",
        "colab_type": "text"
      },
      "source": [
        "<a href=\"https://colab.research.google.com/github/latruonghai/CS114.K21/blob/master/02_Errors_and_Exceptions_Homework.ipynb\" target=\"_parent\"><img src=\"https://colab.research.google.com/assets/colab-badge.svg\" alt=\"Open In Colab\"/></a>"
      ]
    },
    {
      "cell_type": "markdown",
      "metadata": {
        "id": "0sBS1WKwWs9h",
        "colab_type": "text"
      },
      "source": [
        "# Errors and Exceptions Homework"
      ]
    },
    {
      "cell_type": "markdown",
      "metadata": {
        "id": "8sI48FnRWs9i",
        "colab_type": "text"
      },
      "source": [
        "### Problem 1\n",
        "Handle the exception thrown by the code below by using <code>try</code> and <code>except</code> blocks."
      ]
    },
    {
      "cell_type": "code",
      "metadata": {
        "id": "qpvLv-kYWs9k",
        "colab_type": "code",
        "colab": {
          "base_uri": "https://localhost:8080/",
          "height": 35
        },
        "outputId": "e214754a-0999-4593-bf46-ba6bc907d466"
      },
      "source": [
        "try:\n",
        "    for i in ['a','b','c']:\n",
        "      print(i**2)\n",
        "except TypeError:\n",
        "    print(\"you are wrong in the TypeError\")\n",
        "else:\n",
        "    print(\"your code has done\")"
      ],
      "execution_count": 3,
      "outputs": [
        {
          "output_type": "stream",
          "text": [
            "you are wrong in the TypeError\n"
          ],
          "name": "stdout"
        }
      ]
    },
    {
      "cell_type": "markdown",
      "metadata": {
        "id": "5NUqy0gWWs9w",
        "colab_type": "text"
      },
      "source": [
        "### Problem 2\n",
        "Handle the exception thrown by the code below by using <code>try</code> and <code>except</code> blocks. Then use a <code>finally</code> block to print 'All Done.'"
      ]
    },
    {
      "cell_type": "code",
      "metadata": {
        "id": "KAoFlC5EWs9y",
        "colab_type": "code",
        "colab": {
          "base_uri": "https://localhost:8080/",
          "height": 35
        },
        "outputId": "b3126a12-bb4d-468e-86ec-896a2ac34fa2"
      },
      "source": [
        "try:\n",
        "  x = 5\n",
        "  y = 0\n",
        "  z = x/y\n",
        "except ZeroDivisionError:\n",
        "  print(\"u r wrong with ZeroDivision Error\")\n",
        "else:\n",
        "  print(\"ur code has done\")\n",
        "  "
      ],
      "execution_count": 7,
      "outputs": [
        {
          "output_type": "stream",
          "text": [
            "u r wrong with ZeroDivision Error\n"
          ],
          "name": "stdout"
        }
      ]
    },
    {
      "cell_type": "markdown",
      "metadata": {
        "id": "czuliGbdWs93",
        "colab_type": "text"
      },
      "source": [
        "### Problem 3\n",
        "Write a function that asks for an integer and prints the square of it. Use a <code>while</code> loop with a <code>try</code>, <code>except</code>, <code>else</code> block to account for incorrect inputs."
      ]
    },
    {
      "cell_type": "code",
      "metadata": {
        "id": "B-D4tQP0Ws94",
        "colab_type": "code",
        "colab": {}
      },
      "source": [
        "def ask():\n",
        "  while True:\n",
        "    try:\n",
        "      x = int(input(\"Input an integer \"))\n",
        "    except:\n",
        "      print(\"An error occured! Please try agiain!\")\n",
        "    else:\n",
        "      print(\"Thank you, your number squared is: {}\".format(x**2))\n",
        "      break"
      ],
      "execution_count": 0,
      "outputs": []
    },
    {
      "cell_type": "code",
      "metadata": {
        "id": "i8efpVDwWs9-",
        "colab_type": "code",
        "colab": {
          "base_uri": "https://localhost:8080/",
          "height": 90
        },
        "outputId": "8033c5ac-1b98-478c-ff6d-5b29b940c54c"
      },
      "source": [
        "ask()"
      ],
      "execution_count": 4,
      "outputs": [
        {
          "output_type": "stream",
          "text": [
            "Input an integer q\n",
            "An error occured! Please try agiain!\n",
            "Input an integer 3\n",
            "Thank you, your number squared is: 9\n"
          ],
          "name": "stdout"
        }
      ]
    },
    {
      "cell_type": "markdown",
      "metadata": {
        "id": "50sL_Xt4Ws-E",
        "colab_type": "text"
      },
      "source": [
        "# Great Job!"
      ]
    }
  ]
}