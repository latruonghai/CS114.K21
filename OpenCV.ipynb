{
  "nbformat": 4,
  "nbformat_minor": 0,
  "metadata": {
    "colab": {
      "name": "OpenCV",
      "provenance": [],
      "collapsed_sections": [],
      "authorship_tag": "ABX9TyORtATO0JSdf2RTfkDtcq6c",
      "include_colab_link": true
    },
    "kernelspec": {
      "name": "python3",
      "display_name": "Python 3"
    }
  },
  "cells": [
    {
      "cell_type": "markdown",
      "metadata": {
        "id": "view-in-github",
        "colab_type": "text"
      },
      "source": [
        "<a href=\"https://colab.research.google.com/github/latruonghai/CS114.K21/blob/master/OpenCV.ipynb\" target=\"_parent\"><img src=\"https://colab.research.google.com/assets/colab-badge.svg\" alt=\"Open In Colab\"/></a>"
      ]
    },
    {
      "cell_type": "code",
      "metadata": {
        "id": "zQXnqTnYE2OV",
        "colab_type": "code",
        "colab": {
          "base_uri": "https://localhost:8080/",
          "height": 280
        },
        "outputId": "b4983348-3a85-463f-fc99-bd54428f5013"
      },
      "source": [
        "import tensorflow as tf\n",
        "import numpy as np\n",
        "import matplotlib as plt\n",
        "import cv2\n",
        "import os\n",
        "from sklearn import preprocessing\n",
        "from sklearn.model_selection import train_test_split\n",
        "from google.colab import drive"
      ],
      "execution_count": 2,
      "outputs": [
        {
          "output_type": "stream",
          "text": [
            "/usr/local/lib/python3.6/dist-packages/tensorflow/python/framework/dtypes.py:469: FutureWarning: Passing (type, 1) or '1type' as a synonym of type is deprecated; in a future version of numpy, it will be understood as (type, (1,)) / '(1,)type'.\n",
            "  _np_qint8 = np.dtype([(\"qint8\", np.int8, 1)])\n",
            "/usr/local/lib/python3.6/dist-packages/tensorflow/python/framework/dtypes.py:470: FutureWarning: Passing (type, 1) or '1type' as a synonym of type is deprecated; in a future version of numpy, it will be understood as (type, (1,)) / '(1,)type'.\n",
            "  _np_quint8 = np.dtype([(\"quint8\", np.uint8, 1)])\n",
            "/usr/local/lib/python3.6/dist-packages/tensorflow/python/framework/dtypes.py:471: FutureWarning: Passing (type, 1) or '1type' as a synonym of type is deprecated; in a future version of numpy, it will be understood as (type, (1,)) / '(1,)type'.\n",
            "  _np_qint16 = np.dtype([(\"qint16\", np.int16, 1)])\n",
            "/usr/local/lib/python3.6/dist-packages/tensorflow/python/framework/dtypes.py:472: FutureWarning: Passing (type, 1) or '1type' as a synonym of type is deprecated; in a future version of numpy, it will be understood as (type, (1,)) / '(1,)type'.\n",
            "  _np_quint16 = np.dtype([(\"quint16\", np.uint16, 1)])\n",
            "/usr/local/lib/python3.6/dist-packages/tensorflow/python/framework/dtypes.py:473: FutureWarning: Passing (type, 1) or '1type' as a synonym of type is deprecated; in a future version of numpy, it will be understood as (type, (1,)) / '(1,)type'.\n",
            "  _np_qint32 = np.dtype([(\"qint32\", np.int32, 1)])\n",
            "/usr/local/lib/python3.6/dist-packages/tensorflow/python/framework/dtypes.py:476: FutureWarning: Passing (type, 1) or '1type' as a synonym of type is deprecated; in a future version of numpy, it will be understood as (type, (1,)) / '(1,)type'.\n",
            "  np_resource = np.dtype([(\"resource\", np.ubyte, 1)])\n",
            "/usr/lib/python3.6/importlib/_bootstrap.py:219: RuntimeWarning: compiletime version 3.5 of module 'tensorflow.python.framework.fast_tensor_util' does not match runtime version 3.6\n",
            "  return f(*args, **kwds)\n"
          ],
          "name": "stderr"
        }
      ]
    },
    {
      "cell_type": "code",
      "metadata": {
        "id": "nc0N4Ta3QoEn",
        "colab_type": "code",
        "colab": {
          "base_uri": "https://localhost:8080/",
          "height": 34
        },
        "outputId": "cc9826ee-c272-407f-e656-18def28d1e63"
      },
      "source": [
        "drive.mount(\"/content/gdrive\")\n",
        "train_path = 'gdrive/My Drive/OpenCv/Train'\n",
        "test_path = 'gdrive/My Drive/OpenCv/Test'\n",
        "image_size = 216"
      ],
      "execution_count": 9,
      "outputs": [
        {
          "output_type": "stream",
          "text": [
            "Drive already mounted at /content/gdrive; to attempt to forcibly remount, call drive.mount(\"/content/gdrive\", force_remount=True).\n"
          ],
          "name": "stdout"
        }
      ]
    },
    {
      "cell_type": "code",
      "metadata": {
        "id": "guegMc-dRaQI",
        "colab_type": "code",
        "colab": {}
      },
      "source": [
        "def read_date(path):\n",
        "  img = []\n",
        "  label = []\n",
        "  folders = os.listdir(path)\n",
        "  for folder in os.listdir(path):\n",
        "    for files in os.listdir(path+'/'+folder):\n",
        "      files_name = path + '/'+folder+'/' + files\n",
        "      ##print(files_name)\n",
        "      image = cv2.imread(files_name,0)\n",
        "      \n",
        "      image = cv2.resize(image, (image_size, image_size))\n",
        "      images=np.reshape(image, image_size*image_size)\n",
        "      img.append(images)\n",
        "      label.append(folder)\n",
        "  return np.asarray(img),np.asarray(label)\n",
        "x_train, y_train = read_date(train_path)\n",
        "x_test,y_test = read_date(test_path)"
      ],
      "execution_count": 10,
      "outputs": []
    },
    {
      "cell_type": "code",
      "metadata": {
        "id": "ucP6lxFimrF1",
        "colab_type": "code",
        "colab": {
          "base_uri": "https://localhost:8080/",
          "height": 34
        },
        "outputId": "847af863-0ea7-461d-8bd6-d788191d5187"
      },
      "source": [
        "#from matplotlib import pyplot as plt\n",
        "#plt.imshow(img[20], cmap = 'gray', interpolation = 'bicubic')\n",
        "#plt.xticks([]), plt.yticks([])  # to hide tick values on X and Y axis\n",
        "#plt.show()\n",
        "print(x_train.shape)"
      ],
      "execution_count": 11,
      "outputs": [
        {
          "output_type": "stream",
          "text": [
            "(240, 46656)\n"
          ],
          "name": "stdout"
        }
      ]
    },
    {
      "cell_type": "code",
      "metadata": {
        "id": "dRBd9qQyj1rK",
        "colab_type": "code",
        "colab": {
          "base_uri": "https://localhost:8080/",
          "height": 34
        },
        "outputId": "b1c12333-e868-4274-9377-eb480b81a260"
      },
      "source": [
        "print(np.asarray(img).shape)"
      ],
      "execution_count": 100,
      "outputs": [
        {
          "output_type": "stream",
          "text": [
            "(356, 46656)\n"
          ],
          "name": "stdout"
        }
      ]
    },
    {
      "cell_type": "code",
      "metadata": {
        "id": "CYL0wgRDRgkf",
        "colab_type": "code",
        "colab": {}
      },
      "source": [
        "x_train,x_test,y_train,y_test = train_test_split(img,label,test_size = 0.2,random_state = 41)"
      ],
      "execution_count": 101,
      "outputs": []
    },
    {
      "cell_type": "code",
      "metadata": {
        "id": "BqRXTLIzamIy",
        "colab_type": "code",
        "colab": {
          "base_uri": "https://localhost:8080/",
          "height": 34
        },
        "outputId": "9c8748d1-0019-439c-9109-0e016c34c0ff"
      },
      "source": [
        "x_test.shape"
      ],
      "execution_count": 108,
      "outputs": [
        {
          "output_type": "execute_result",
          "data": {
            "text/plain": [
              "(72, 46656)"
            ]
          },
          "metadata": {
            "tags": []
          },
          "execution_count": 108
        }
      ]
    },
    {
      "cell_type": "code",
      "metadata": {
        "id": "qBwJFhzUjsG9",
        "colab_type": "code",
        "colab": {
          "base_uri": "https://localhost:8080/",
          "height": 139
        },
        "outputId": "f95c74fb-9f3a-44fe-8632-ad8a0c2056ad"
      },
      "source": [
        "from sklearn.preprocessing import LabelEncoder\n",
        "labelencoder_X=LabelEncoder()\n",
        "y_train = labelencoder_X.fit_transform(y_train)\n",
        "y_test=labelencoder_X.transform(y_test)\n",
        "print (y_train)"
      ],
      "execution_count": 12,
      "outputs": [
        {
          "output_type": "stream",
          "text": [
            "[1 1 1 1 1 1 1 1 1 1 1 1 1 1 1 1 1 1 1 1 1 1 1 1 1 1 1 1 1 1 1 1 1 1 1 1 1\n",
            " 1 1 1 1 1 1 1 1 1 1 1 1 1 1 1 1 1 1 1 1 1 1 1 1 1 1 1 1 1 1 1 1 1 1 1 1 1\n",
            " 1 1 1 1 1 1 0 0 0 0 0 0 0 0 0 0 0 0 0 0 0 0 0 0 0 0 0 0 0 0 0 0 0 0 0 0 0\n",
            " 0 0 0 0 0 0 0 0 0 0 0 0 0 0 0 0 0 0 0 0 0 0 0 0 0 0 0 0 0 0 0 0 0 0 0 0 0\n",
            " 0 0 0 0 0 0 0 0 0 0 0 0 2 2 2 2 2 2 2 2 2 2 2 2 2 2 2 2 2 2 2 2 2 2 2 2 2\n",
            " 2 2 2 2 2 2 2 2 2 2 2 2 2 2 2 2 2 2 2 2 2 2 2 2 2 2 2 2 2 2 2 2 2 2 2 2 2\n",
            " 2 2 2 2 2 2 2 2 2 2 2 2 2 2 2 2 2 2]\n"
          ],
          "name": "stdout"
        }
      ]
    },
    {
      "cell_type": "code",
      "metadata": {
        "id": "dQuCZVonbeIo",
        "colab_type": "code",
        "colab": {}
      },
      "source": [
        "image_size = 216\n",
        "num_steps = 500\n",
        "batch_size = 128\n",
        "display_step = 10\n",
        "\n",
        "# Network Parameters\n",
        "num_input = image_size * image_size \n",
        "num_classes = 27 \n",
        "\n",
        "# tf Graph input\n",
        "x = tf.placeholder(tf.float32, [None, num_input])\n",
        "y = tf.placeholder(tf.int32, [None])"
      ],
      "execution_count": 13,
      "outputs": []
    },
    {
      "cell_type": "code",
      "metadata": {
        "id": "gGbuswAUePaf",
        "colab_type": "code",
        "colab": {}
      },
      "source": [
        "def random_batch(x_train, y_train, batch_size):\n",
        "    rnd_indices = np.random.randint(0, len(x_train), batch_size)\n",
        "    x_batch = x_train[rnd_indices]\n",
        "    y_batch = y_train[rnd_indices]\n",
        "    return x_batch, y_batch\n",
        "\n",
        "\n",
        "# Create the neural network\n",
        "def conv_net(x):\n",
        "  x = tf.reshape(x, shape=[-1, image_size, image_size, 1])\n",
        "  conv1 = tf.layers.conv2d(x, 8, 5, activation=tf.nn.relu)\n",
        "  conv1 = tf.layers.max_pooling2d(conv1, 4, 4)\n",
        "  conv2 = tf.layers.conv2d(conv1, 16, 5, activation=tf.nn.relu)\n",
        "  conv2 = tf.layers.max_pooling2d(conv2, 4, 4)\n",
        "  conv3 = tf.layers.conv2d(conv2, 32, 3, activation=tf.nn.relu)\n",
        "  conv3 = tf.layers.max_pooling2d(conv3, 2, 2)\n",
        "\n",
        "  fc1 = tf.contrib.layers.flatten(conv3)\n",
        "  fc1 = tf.layers.dense(fc1, 256)\n",
        "  out = tf.layers.dense(fc1, num_classes)\n",
        "\n",
        "  return out\n",
        "\n"
      ],
      "execution_count": 14,
      "outputs": []
    },
    {
      "cell_type": "markdown",
      "metadata": {
        "id": "kcqF2g-2l_9K",
        "colab_type": "text"
      },
      "source": [
        "Khoi Tao Cac Variable"
      ]
    },
    {
      "cell_type": "code",
      "metadata": {
        "id": "DEwOAUghbyEa",
        "colab_type": "code",
        "colab": {}
      },
      "source": [
        "pred = conv_net(x)\n",
        "\n",
        "xentropy = tf.nn.sparse_softmax_cross_entropy_with_logits(logits=pred, labels=y)\n",
        "cost = tf.reduce_mean(xentropy)\n",
        "\n",
        "optimizer = tf.train.AdamOptimizer()\n",
        "training_op=optimizer.minimize(cost)\n",
        "\n",
        "correct = tf.nn.in_top_k(pred, y, 1)\n",
        "accuracy = tf.reduce_mean(tf.cast(correct, tf.float32))\n",
        "# Initializing the variables\n",
        "init = tf.global_variables_initializer()"
      ],
      "execution_count": 15,
      "outputs": []
    },
    {
      "cell_type": "code",
      "metadata": {
        "id": "6fukc-7Tb1GR",
        "colab_type": "code",
        "colab": {
          "base_uri": "https://localhost:8080/",
          "height": 86
        },
        "outputId": "7f3e20ae-28d7-4890-9cd5-7c7a14147bd9"
      },
      "source": [
        "sess= tf.Session()\n",
        "best_accuracy = 0\n",
        "consecutive_accuracy = []\n",
        "n_epochs = 50\n",
        "\n",
        "sess.run(init)\n",
        "for step in range(1, num_steps+1):\n",
        "  x_batch, y_batch = random_batch(x_train, y_train, batch_size)\n",
        "  sess.run(training_op, feed_dict={x: x_batch, y: y_batch})\n",
        "  if step % 10 == 0:\n",
        "    acc = sess.run( accuracy, feed_dict={x: x_batch,y: y_batch})\n",
        "    print('Step: {}\\tAccuracy: {}'.format(step,acc))\n",
        "print(\"Optimization Finished!\")"
      ],
      "execution_count": null,
      "outputs": [
        {
          "output_type": "stream",
          "text": [
            "Step: 10\tAccuracy: 0.40625\n",
            "Step: 20\tAccuracy: 0.6953125\n",
            "Step: 30\tAccuracy: 0.71875\n",
            "Step: 40\tAccuracy: 0.8515625\n"
          ],
          "name": "stdout"
        }
      ]
    },
    {
      "cell_type": "code",
      "metadata": {
        "id": "JlpykwpWcAp1",
        "colab_type": "code",
        "colab": {}
      },
      "source": [
        ""
      ],
      "execution_count": null,
      "outputs": []
    }
  ]
}