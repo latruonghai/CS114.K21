{
  "nbformat": 4,
  "nbformat_minor": 0,
  "metadata": {
    "colab": {
      "name": "Copy of Untitled6.ipynb",
      "provenance": [],
      "collapsed_sections": [],
      "toc_visible": true,
      "authorship_tag": "ABX9TyPF9kFSx10r8Kl2oR702PC1",
      "include_colab_link": true
    },
    "kernelspec": {
      "name": "python3",
      "display_name": "Python 3"
    }
  },
  "cells": [
    {
      "cell_type": "markdown",
      "metadata": {
        "id": "view-in-github",
        "colab_type": "text"
      },
      "source": [
        "<a href=\"https://colab.research.google.com/github/latruonghai/CS114.K21/blob/master/Copy_of_Untitled6.ipynb\" target=\"_parent\"><img src=\"https://colab.research.google.com/assets/colab-badge.svg\" alt=\"Open In Colab\"/></a>"
      ]
    },
    {
      "cell_type": "code",
      "metadata": {
        "id": "3taqpiGbldcj",
        "colab_type": "code",
        "colab": {
          "base_uri": "https://localhost:8080/",
          "height": 54
        },
        "outputId": "c2777522-ac68-4c9c-85c3-bb3c3a7e2415"
      },
      "source": [
        "from google.colab import drive\n",
        "drive.mount('/content/gdrive')"
      ],
      "execution_count": 2,
      "outputs": [
        {
          "output_type": "stream",
          "text": [
            "Drive already mounted at /content/gdrive; to attempt to forcibly remount, call drive.mount(\"/content/gdrive\", force_remount=True).\n"
          ],
          "name": "stdout"
        }
      ]
    },
    {
      "cell_type": "code",
      "metadata": {
        "id": "mUeE9GfjmCZW",
        "colab_type": "code",
        "colab": {}
      },
      "source": [
        "import os \n",
        "import numpy as np\n",
        "import matplotlib.pyplot as plt\n",
        "import cv2\n",
        "from sklearn.model_selection import train_test_split\n",
        "from sklearn.svm import SVC\n",
        "from skimage.color import rgb2gray\n",
        "from skimage.feature import canny\n",
        "from skimage import io\n",
        "from skimage.feature import hog\n",
        "from skimage import exposure"
      ],
      "execution_count": 119,
      "outputs": []
    },
    {
      "cell_type": "markdown",
      "metadata": {
        "id": "fcuV0t6jahWq",
        "colab_type": "text"
      },
      "source": [
        "# Feature Engineering\n"
      ]
    },
    {
      "cell_type": "markdown",
      "metadata": {
        "id": "ur5UtHYFaoiO",
        "colab_type": "text"
      },
      "source": [
        "Anh trong thu muc se duoc xu ly de bien doi thanh dang doi tuong (object detection).\n"
      ]
    },
    {
      "cell_type": "code",
      "metadata": {
        "id": "nXdC2O_rm2EC",
        "colab_type": "code",
        "colab": {}
      },
      "source": [
        "def read_img(path):\n",
        "  image = []\n",
        "  label = []\n",
        "  for folder in os.listdir(path):\n",
        "    for files in os.listdir(path+'/'+folder):\n",
        "      file_name = path + '/' + folder + '/'+files\n",
        "      img = io.imread(file_name)\n",
        "      \n",
        "      #img = cv2.resize(img,(216,216))\n",
        "      img = rgb2gray(img)\n",
        "      # Chuyen hinh anh ve dang cac dang object\n",
        "      fd_perer, imgs_per = hog(img, orientations=8, pixels_per_cell=(8, 8),\n",
        "                   cells_per_block=(3, 3), visualize=True)\n",
        "      imgs_per = exposure.rescale_intensity(imgs_per,in_range = (0,0.04))\n",
        "      #img_canny = canny(img, sigma=2)\n",
        "      #hog()\n",
        "\n",
        "      #imgss = np.round(img.flatten(), 2)\n",
        "      #print(imgss)\n",
        "      imgs = np.reshape(imgs_per,216*216)\n",
        "      #image.append(img)\n",
        "      image.append(imgs)\n",
        "      label.append(folder)\n",
        "  return np.round(np.asarray(image),2),np.asarray(label,dtype='object')"
      ],
      "execution_count": 408,
      "outputs": []
    },
    {
      "cell_type": "code",
      "metadata": {
        "id": "z16qyDkJn6dY",
        "colab_type": "code",
        "colab": {
          "base_uri": "https://localhost:8080/",
          "height": 139
        },
        "outputId": "bed0f0f0-c4f7-4cfd-b930-e771c81de25e"
      },
      "source": [
        "path_train = 'gdrive/My Drive/ML/Train'\n",
        "path_test = 'gdrive/My Drive/data_cnn/Test'\n",
        "\n",
        "x_train,y_train = read_img(path_train)\n",
        "x_test,y_test = read_img(path_test)\n",
        "x_train"
      ],
      "execution_count": 409,
      "outputs": [
        {
          "output_type": "execute_result",
          "data": {
            "text/plain": [
              "array([[0., 0., 0., ..., 0., 0., 0.],\n",
              "       [0., 0., 0., ..., 0., 0., 0.],\n",
              "       [0., 0., 0., ..., 0., 0., 0.],\n",
              "       ...,\n",
              "       [0., 0., 0., ..., 0., 0., 0.],\n",
              "       [0., 0., 0., ..., 0., 0., 0.],\n",
              "       [0., 0., 0., ..., 0., 0., 0.]])"
            ]
          },
          "metadata": {
            "tags": []
          },
          "execution_count": 409
        }
      ]
    },
    {
      "cell_type": "code",
      "metadata": {
        "id": "7Im6hRb2d_Rs",
        "colab_type": "code",
        "colab": {
          "base_uri": "https://localhost:8080/",
          "height": 271
        },
        "outputId": "8a29f390-5fec-4c58-825f-57e803509252"
      },
      "source": [
        "fig = plt.figure(figsize = (8,4))\n",
        "ax1 = fig.add_subplot(1,2, 1)\n",
        "ax1.imshow(x_train[0], cmap='binary')\n",
        "#ax2 = fig.add_subplot(1,2, 2)\n",
        "print(y_train[0])\n",
        "#ax2.imshow(dog_edges, cmap='binary')"
      ],
      "execution_count": 332,
      "outputs": [
        {
          "output_type": "stream",
          "text": [
            "NDLN\n"
          ],
          "name": "stdout"
        },
        {
          "output_type": "display_data",
          "data": {
            "image/png": "[encoded data removed]",
            "text/plain": [
              "<Figure size 576x288 with 1 Axes>"
            ]
          },
          "metadata": {
            "tags": [],
            "needs_background": "light"
          }
        }
      ]
    },
    {
      "cell_type": "markdown",
      "metadata": {
        "id": "P6Tbwu5VcDDQ",
        "colab_type": "text"
      },
      "source": [
        "Sau khi \"feature engineering\""
      ]
    },
    {
      "cell_type": "markdown",
      "metadata": {
        "id": "ODR_Sa6NPRJ8",
        "colab_type": "text"
      },
      "source": [
        ""
      ]
    },
    {
      "cell_type": "code",
      "metadata": {
        "id": "K3IeV826UaSL",
        "colab_type": "code",
        "colab": {
          "base_uri": "https://localhost:8080/",
          "height": 193
        },
        "outputId": "5ee222bf-4606-40c9-b038-3f46159a8a7e"
      },
      "source": [
        "\n",
        "from sklearn.svm import SVC\n",
        "from sklearn.linear_model import LogisticRegression\n"
      ],
      "execution_count": 410,
      "outputs": [
        {
          "output_type": "stream",
          "text": [
            "/usr/local/lib/python3.6/dist-packages/sklearn/linear_model/_logistic.py:940: ConvergenceWarning: lbfgs failed to converge (status=1):\n",
            "STOP: TOTAL NO. of ITERATIONS REACHED LIMIT.\n",
            "\n",
            "Increase the number of iterations (max_iter) or scale the data as shown in:\n",
            "    https://scikit-learn.org/stable/modules/preprocessing.html\n",
            "Please also refer to the documentation for alternative solver options:\n",
            "    https://scikit-learn.org/stable/modules/linear_model.html#logistic-regression\n",
            "  extra_warning_msg=_LOGISTIC_SOLVER_CONVERGENCE_MSG)\n"
          ],
          "name": "stderr"
        },
        {
          "output_type": "execute_result",
          "data": {
            "text/plain": [
              "1.0"
            ]
          },
          "metadata": {
            "tags": []
          },
          "execution_count": 410
        }
      ]
    },
    {
      "cell_type": "markdown",
      "metadata": {
        "id": "lIDcTQHYcO0T",
        "colab_type": "text"
      },
      "source": [
        "them cac thu vien can thiet"
      ]
    },
    {
      "cell_type": "code",
      "metadata": {
        "id": "iAo7cOtGvgmG",
        "colab_type": "code",
        "colab": {}
      },
      "source": [
        "from sklearn.decomposition import PCA\n",
        "from sklearn.pipeline import make_pipeline\n",
        "\n",
        "pca = PCA(n_components = 50, whiten = True, random_state = 0)\n",
        "svc = SVC(kernel = 'rbf', class_weight = 'balanced')\n",
        "lr = LogisticRegression()\n",
        "pipeline_lr = make_pipeline(lr)\n",
        "pipeline_svc = make_pipeline(svc)"
      ],
      "execution_count": 429,
      "outputs": []
    },
    {
      "cell_type": "markdown",
      "metadata": {
        "id": "GmeXNt0ScYCZ",
        "colab_type": "text"
      },
      "source": [
        "Dung pipeline de rut gon qua trinh chay cua model.\n",
        "\n",
        "Sau do dung GridSearchCV de tim ra tham so toi uu cho model"
      ]
    },
    {
      "cell_type": "code",
      "metadata": {
        "id": "o1ZpgT6ywu0E",
        "colab_type": "code",
        "colab": {
          "base_uri": "https://localhost:8080/",
          "height": 173
        },
        "outputId": "4604010e-175e-46b8-b2a0-415b8052a0fe"
      },
      "source": [
        "pipeline_svc"
      ],
      "execution_count": 430,
      "outputs": [
        {
          "output_type": "execute_result",
          "data": {
            "text/plain": [
              "Pipeline(memory=None,\n",
              "         steps=[('svc',\n",
              "                 SVC(C=1.0, break_ties=False, cache_size=200,\n",
              "                     class_weight='balanced', coef0=0.0,\n",
              "                     decision_function_shape='ovr', degree=3, gamma='scale',\n",
              "                     kernel='rbf', max_iter=-1, probability=False,\n",
              "                     random_state=None, shrinking=True, tol=0.001,\n",
              "                     verbose=False))],\n",
              "         verbose=False)"
            ]
          },
          "metadata": {
            "tags": []
          },
          "execution_count": 430
        }
      ]
    },
    {
      "cell_type": "code",
      "metadata": {
        "id": "NvLN9jNuxXMp",
        "colab_type": "code",
        "colab": {
          "base_uri": "https://localhost:8080/",
          "height": 69
        },
        "outputId": "3e378442-a825-403c-f3ec-9ec2d4c4be14"
      },
      "source": [
        "\n",
        "from sklearn.model_selection import learning_curve, GridSearchCV\n",
        "param_grid = {'svc__C': [1, 5, 10, 50],\n",
        "              'svc__gamma': [0.0001, 0.0005, 0.001, 0.005]}\n",
        "param_lr_grid = {'logisticregression__C': [1, 5, 10, 50],\n",
        "              'logisticregression__tol':[0.01,0.001,0.0001]}\n",
        "grid = GridSearchCV(pipeline_svc, param_grid)\n",
        "\n",
        "%time grid.fit(x_train, y_train)\n",
        "print(grid.best_params_)"
      ],
      "execution_count": 432,
      "outputs": [
        {
          "output_type": "stream",
          "text": [
            "CPU times: user 19min 31s, sys: 371 ms, total: 19min 31s\n",
            "Wall time: 19min 33s\n",
            "{'svc__C': 5, 'svc__gamma': 0.0005}\n"
          ],
          "name": "stdout"
        }
      ]
    },
    {
      "cell_type": "code",
      "metadata": {
        "id": "97KRmUNbyAIZ",
        "colab_type": "code",
        "colab": {
          "base_uri": "https://localhost:8080/",
          "height": 173
        },
        "outputId": "5dfdd39d-ca8d-4695-f2fc-1e500cd6f82e"
      },
      "source": [
        "\n",
        "grid.best_estimator_"
      ],
      "execution_count": 433,
      "outputs": [
        {
          "output_type": "execute_result",
          "data": {
            "text/plain": [
              "Pipeline(memory=None,\n",
              "         steps=[('svc',\n",
              "                 SVC(C=5, break_ties=False, cache_size=200,\n",
              "                     class_weight='balanced', coef0=0.0,\n",
              "                     decision_function_shape='ovr', degree=3, gamma=0.0005,\n",
              "                     kernel='rbf', max_iter=-1, probability=False,\n",
              "                     random_state=None, shrinking=True, tol=0.001,\n",
              "                     verbose=False))],\n",
              "         verbose=False)"
            ]
          },
          "metadata": {
            "tags": []
          },
          "execution_count": 433
        }
      ]
    },
    {
      "cell_type": "code",
      "metadata": {
        "id": "IB1QlQ8xzOQk",
        "colab_type": "code",
        "colab": {}
      },
      "source": [
        "model = grid.best_estimator_.predict(x_test)"
      ],
      "execution_count": 416,
      "outputs": []
    },
    {
      "cell_type": "code",
      "metadata": {
        "id": "jdANod7v0HWW",
        "colab_type": "code",
        "colab": {
          "base_uri": "https://localhost:8080/",
          "height": 34
        },
        "outputId": "ef175040-6271-4fb4-e925-17482d48f6ad"
      },
      "source": [
        "from sklearn.metrics import  accuracy_score\n",
        "from sklearn.metrics import confusion_matrix\n",
        "from sklearn.metrics import classification_report\n",
        "\n",
        "\n",
        "\n",
        "print(accuracy_score(y_test,model))"
      ],
      "execution_count": 417,
      "outputs": [
        {
          "output_type": "stream",
          "text": [
            "0.69\n"
          ],
          "name": "stdout"
        }
      ]
    },
    {
      "cell_type": "markdown",
      "metadata": {
        "id": "woYoAkZUZ-5o",
        "colab_type": "text"
      },
      "source": [
        "Model linear regression co accuray: 0.69\n",
        "--> Cai thien hon"
      ]
    },
    {
      "cell_type": "code",
      "metadata": {
        "id": "GzTjfOdVZ3pB",
        "colab_type": "code",
        "colab": {}
      },
      "source": [
        "model_svc = grid.best_estimator_.predict(x_test)"
      ],
      "execution_count": 434,
      "outputs": []
    },
    {
      "cell_type": "code",
      "metadata": {
        "id": "BM87WWoZeSvO",
        "colab_type": "code",
        "colab": {
          "base_uri": "https://localhost:8080/",
          "height": 34
        },
        "outputId": "b400f2c8-28ef-4e2b-e218-3fc5178bc4fe"
      },
      "source": [
        "print(accuracy_score(y_test,model_svc))"
      ],
      "execution_count": 435,
      "outputs": [
        {
          "output_type": "stream",
          "text": [
            "0.71\n"
          ],
          "name": "stdout"
        }
      ]
    },
    {
      "cell_type": "markdown",
      "metadata": {
        "id": "xScCwGLmegXw",
        "colab_type": "text"
      },
      "source": [
        "Model svc co accuracy: 0.71"
      ]
    },
    {
      "cell_type": "code",
      "metadata": {
        "id": "ORtk6a0X1IIG",
        "colab_type": "code",
        "colab": {
          "base_uri": "https://localhost:8080/",
          "height": 225
        },
        "outputId": "f23fcce3-29f3-40bf-c2cc-d999cb4a067e"
      },
      "source": [
        "print(classification_report(y_test,model))"
      ],
      "execution_count": 423,
      "outputs": [
        {
          "output_type": "stream",
          "text": [
            "              precision    recall  f1-score   support\n",
            "\n",
            "        Amee       0.68      0.65      0.67        20\n",
            "         MTP       0.71      0.85      0.77        20\n",
            "       MyTam       0.64      0.45      0.53        20\n",
            "        NDLN       0.58      0.70      0.64        20\n",
            "   TranThanh       0.84      0.80      0.82        20\n",
            "\n",
            "    accuracy                           0.69       100\n",
            "   macro avg       0.69      0.69      0.69       100\n",
            "weighted avg       0.69      0.69      0.69       100\n",
            "\n"
          ],
          "name": "stdout"
        }
      ]
    },
    {
      "cell_type": "code",
      "metadata": {
        "id": "XGC4LGDBeoEU",
        "colab_type": "code",
        "colab": {
          "base_uri": "https://localhost:8080/",
          "height": 225
        },
        "outputId": "81463e51-a389-4bed-f7a9-363f9039429c"
      },
      "source": [
        "print(classification_report(y_test,model_svc))"
      ],
      "execution_count": 436,
      "outputs": [
        {
          "output_type": "stream",
          "text": [
            "              precision    recall  f1-score   support\n",
            "\n",
            "        Amee       0.67      0.60      0.63        20\n",
            "         MTP       0.68      0.95      0.79        20\n",
            "       MyTam       0.73      0.55      0.63        20\n",
            "        NDLN       0.62      0.65      0.63        20\n",
            "   TranThanh       0.89      0.80      0.84        20\n",
            "\n",
            "    accuracy                           0.71       100\n",
            "   macro avg       0.72      0.71      0.71       100\n",
            "weighted avg       0.72      0.71      0.71       100\n",
            "\n"
          ],
          "name": "stdout"
        }
      ]
    },
    {
      "cell_type": "code",
      "metadata": {
        "id": "eopmq7j-1PCb",
        "colab_type": "code",
        "colab": {
          "base_uri": "https://localhost:8080/",
          "height": 104
        },
        "outputId": "cbad37bb-5e44-4211-f2f1-386ab364a5a4"
      },
      "source": [
        "print(confusion_matrix(y_test,model))"
      ],
      "execution_count": 421,
      "outputs": [
        {
          "output_type": "stream",
          "text": [
            "[[13  2  1  4  0]\n",
            " [ 1 17  0  1  1]\n",
            " [ 1  3  9  5  2]\n",
            " [ 3  0  3 14  0]\n",
            " [ 1  2  1  0 16]]\n"
          ],
          "name": "stdout"
        }
      ]
    },
    {
      "cell_type": "code",
      "metadata": {
        "id": "LbmPbtuR1bcn",
        "colab_type": "code",
        "colab": {}
      },
      "source": [
        ""
      ],
      "execution_count": null,
      "outputs": []
    },
    {
      "cell_type": "markdown",
      "metadata": {
        "id": "Dr8v6wywdAYj",
        "colab_type": "text"
      },
      "source": [
        "Ma Tran Confusion: Danh gia do chinh xac"
      ]
    },
    {
      "cell_type": "markdown",
      "metadata": {
        "id": "IEGXF5iIlx_S",
        "colab_type": "text"
      },
      "source": [
        "# Test voi du lieu moi"
      ]
    },
    {
      "cell_type": "code",
      "metadata": {
        "id": "XnrCoJrXgoDZ",
        "colab_type": "code",
        "colab": {
          "base_uri": "https://localhost:8080/",
          "height": 34
        },
        "outputId": "ccd58837-5032-41bb-f855-a7853443ff2e"
      },
      "source": [
        "path_test_new = 'gdrive/My Drive/data_cnn/Test'\n",
        "test_x,test_y = read_img(path_test_new)\n",
        "model_new = grid.best_estimator_.predict(test_x)\n",
        "print(accuracy_score(test_y,model_new))"
      ],
      "execution_count": 437,
      "outputs": [
        {
          "output_type": "stream",
          "text": [
            "0.6069444444444444\n"
          ],
          "name": "stdout"
        }
      ]
    },
    {
      "cell_type": "markdown",
      "metadata": {
        "id": "ktKaiS1Il3ee",
        "colab_type": "text"
      },
      "source": [
        "Tap Tin Test"
      ]
    },
    {
      "cell_type": "code",
      "metadata": {
        "id": "VsGLqOWDg_W3",
        "colab_type": "code",
        "colab": {}
      },
      "source": [
        "pipeline_svc = grid.best_estimator_"
      ],
      "execution_count": 439,
      "outputs": []
    },
    {
      "cell_type": "code",
      "metadata": {
        "id": "Ph6JEftEivCM",
        "colab_type": "code",
        "colab": {
          "base_uri": "https://localhost:8080/",
          "height": 34
        },
        "outputId": "1f927a6e-e60b-4248-80f1-b7f41af107f8"
      },
      "source": [
        "path_val_new = 'gdrive/My Drive/data_cnn/Val'\n",
        "val_x,val_y = read_img(path_val_new)\n",
        "model_new_val = pipeline_svc.predict(val_x)\n",
        "print(accuracy_score(val_y,model_new_val))"
      ],
      "execution_count": 442,
      "outputs": [
        {
          "output_type": "stream",
          "text": [
            "0.5069444444444444\n"
          ],
          "name": "stdout"
        }
      ]
    },
    {
      "cell_type": "code",
      "metadata": {
        "id": "VL4hcxMnjlHw",
        "colab_type": "code",
        "colab": {}
      },
      "source": [
        ""
      ],
      "execution_count": null,
      "outputs": []
    },
    {
      "cell_type": "markdown",
      "metadata": {
        "id": "UfTt59lRl6yW",
        "colab_type": "text"
      },
      "source": [
        "Tap Tin Val"
      ]
    },
    {
      "cell_type": "markdown",
      "metadata": {
        "id": "SZMaxPbyl9WC",
        "colab_type": "text"
      },
      "source": [
        ""
      ]
    }
  ]
}