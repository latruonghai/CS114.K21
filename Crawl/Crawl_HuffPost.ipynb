{
 "cells": [
  {
   "cell_type": "code",
   "execution_count": 1,
   "metadata": {},
   "outputs": [],
   "source": [
    "import codecs\n",
    "import pandas as pd\n",
    "import bs4\n",
    "# Vì trang báo chặn requests nên ta dùng cách đọc file để crawl\n",
    "def DocFile(path):\n",
    "    file=codecs.open(path,\"r\")\n",
    "    file1=file.read()\n",
    "    file1=str(file1)\n",
    "    soup = bs4.BeautifulSoup(file1,'html.parser')\n",
    "    return soup"
   ]
  },
  {
   "cell_type": "code",
   "execution_count": 2,
   "metadata": {},
   "outputs": [
    {
     "name": "stdout",
     "output_type": "stream",
     "text": [
      "[                                               Article  \\\n",
      "0    https://www.huffpost.com/entertainment/topic/g...   \n",
      "1    https://www.huffpost.com/entry/winona-ryder-me...   \n",
      "2    https://www.huffpost.com/entry/trevor-noah-tru...   \n",
      "3    https://www.huffpost.com/entry/donald-trump-tu...   \n",
      "4    https://www.huffpost.com/entry/kkk-woman-teach...   \n",
      "..                                                 ...   \n",
      "235  https://www.huffpost.com/entry/nina-simone-peg...   \n",
      "236  https://www.huffpost.com/entry/charize-theron-...   \n",
      "237  https://www.huffpost.com/entry/martin-luther-k...   \n",
      "238  https://www.huffpost.com/entry/celeb-video-i-t...   \n",
      "239  https://www.huffpost.com/entry/lady-antebellum...   \n",
      "\n",
      "                                             Headlines  is_sarcasm  \n",
      "0                                      GAME OF THRONES           1  \n",
      "1    Winona Ryder Says Mel Gibson Once Called Her A...           1  \n",
      "2    Trevor Noah Makes A Bleak Observation About Tr...           1  \n",
      "3    Late Show Hosts Dissect Trump’s Tulsa Rally Fo...           1  \n",
      "4    Confederate Flag-Waving Trump Supporter Praise...           1  \n",
      "..                                                 ...         ...  \n",
      "235  Street Artist Honors Protesters With Nina Simo...           1  \n",
      "236  Charlize Theron Reveals True Nature Of Sean Pe...           1  \n",
      "237  Martin Luther King Jr.'s Daughter Says People ...           1  \n",
      "238  Hollywood Celebs Get Dragged For Cringeworthy ...           1  \n",
      "239  Lady Antebellum, Blues Artist Lady A Had 'Hone...           1  \n",
      "\n",
      "[240 rows x 3 columns],                                                Article  \\\n",
      "0    https://www.huffpost.com/entry/90th-birthday-a...   \n",
      "1    https://www.huffpost.com/entry/covid-19-reopen...   \n",
      "2    https://www.huffpost.com/entry/girldad-father-...   \n",
      "3    https://www.huffpost.com/entry/incarcerated-fa...   \n",
      "4    https://www.huffpost.com/entry/kkk-woman-teach...   \n",
      "..                                                 ...   \n",
      "144  https://www.huffpost.com/entry/sex-workers-cov...   \n",
      "145  https://www.huffpost.com/entry/social-distanci...   \n",
      "146  https://www.huffpost.com/entry/federal-governm...   \n",
      "147  https://www.huffpost.com/entry/i-didnt-love-my...   \n",
      "148  https://www.huffpost.com/entry/coronavirus-tes...   \n",
      "\n",
      "                                             Headlines  is_sarcasm  \n",
      "0    All I Want For My 90th Birthday Is To Abolish ...           1  \n",
      "1    I Get It. You Want To Restart Your Life. But D...           1  \n",
      "2    I'm The Father Of A Newborn Baby Girl But I Wo...           1  \n",
      "3    I’ve Been In Prison For 24 Years. Now My Son I...           1  \n",
      "4    Confederate Flag-Waving Trump Supporter Praise...           1  \n",
      "..                                                 ...         ...  \n",
      "144  How COVID-19 Is Driving Sex Workers Like Me In...           1  \n",
      "145  My Family Had To Do Social Distancing For 5 We...           1  \n",
      "146  Our Federal Government Has Failed To Protect U...           1  \n",
      "147  I Wish Someone Had Told Me I Wouldn't Immediat...           1  \n",
      "148  My Teen Daughter Is Sick But Can't Get The Cor...           1  \n",
      "\n",
      "[149 rows x 3 columns],                                                Article  \\\n",
      "0    https://www.huffpost.com/news/topic/george-conway   \n",
      "1    https://www.huffpost.com/entry/kkk-woman-teach...   \n",
      "2    https://www.huffpost.com/entry/trump-obama-tre...   \n",
      "3    https://www.huffpost.com/entry/lincoln-project...   \n",
      "4    https://www.huffpost.com/entry/trevor-noah-tru...   \n",
      "..                                                 ...   \n",
      "513  https://www.huffpost.com/entry/racial-justice-...   \n",
      "514  https://www.huffpost.com/entry/trump-maralago-...   \n",
      "515  https://www.huffpost.com/entry/tucker-carlson-...   \n",
      "516  https://www.huffpost.com/entry/still-havent-re...   \n",
      "517  https://www.huffpost.com/entry/cuomo-reverse-r...   \n",
      "\n",
      "                                             Headlines  is_sarcasm  \n",
      "0                                        GEORGE CONWAY           1  \n",
      "1    Confederate Flag-Waving Trump Supporter Praise...           1  \n",
      "2          Trump Baselessly Accuses Obama Of ‘Treason’           1  \n",
      "3    Republican Group Relentlessly Dunks On 'Dishev...           1  \n",
      "4    Trevor Noah Makes A Bleak Observation About Tr...           1  \n",
      "..                                                 ...         ...  \n",
      "513  Amid Racial Justice Marches, GOP Advances Trum...           1  \n",
      "514  As They Scream Voter Fraud, Trump And His Pres...           1  \n",
      "515  Tucker Carlson Rails Against Elmo And His Dad ...           1  \n",
      "516  As Many As 35 Million People Haven't Yet Recei...           1  \n",
      "517  Cuomo Warns He May Reverse Reopenings After Ne...           1  \n",
      "\n",
      "[518 rows x 3 columns]]\n"
     ]
    }
   ],
   "source": [
    "# Quét tìm trong file '.html' những thông tin cần thiết\n",
    "def parse(soup):\n",
    "    article = soup.findAll('div',class_=\"card__text\")\n",
    "    # Tìm Article_link\n",
    "    links = [art.find('a') for art in article]\n",
    "    link = []\n",
    "    # Lấy Article_link\n",
    "    for l in links:\n",
    "        link.append(l.get('href'))\n",
    "    # Tìm headlines\n",
    "    headlines = [head.find('h2',class_=\"card__headline__text\").text for head in article]\n",
    "    return link, headlines\n",
    "# Đưa dữ liệu crawl được về Dataframe   \n",
    "def get_df(link,headlines):\n",
    "    papers = {\"Article\":link, \"Headlines\":headlines,\"is_sarcasm\":[int(1)]*len(link)}\n",
    "    data = pd.DataFrame(papers)\n",
    "    return data\n",
    "    #data.to_csv('sarcasm.csv', header = True, indeDataframe\n",
    "# Chuyển DataFrame thành file \".csv\"\n",
    "def get_csv(listdata):\n",
    "    data = listdata[0]\n",
    "    for i in range(1,len(listdata)):\n",
    "        data = data.append(listdata[i])\n",
    "    result = data.to_csv(\"sarcasm21.csv\",header = True, index = None)\n",
    "# Crawl dữ liệu\n",
    "def Sarcasm(lists):\n",
    "    for arg in lists:\n",
    "        soup = DocFile(arg)\n",
    "        link,headlines = parse(soup)\n",
    "        data = get_df(link,headlines)\n",
    "        \n",
    "        yield data\n",
    "lists = [\"indexs\"+str(i)+\".html\" for i in range(1,4)]\n",
    "listada = list(Sarcasm(lists))\n",
    "print(lista)\n",
    "result = get_csv(listada)\n"
   ]
  },
  {
   "cell_type": "code",
   "execution_count": null,
   "metadata": {},
   "outputs": [],
   "source": []
  },
  {
   "cell_type": "code",
   "execution_count": 3,
   "metadata": {},
   "outputs": [],
   "source": [
    "db = pd.read_csv(\"sarcasm21.csv\",encoding = 'utf-8')\n",
    "df = pd.read_csv(\"sarcasm212.csv\",encoding = 'utf-8')"
   ]
  },
  {
   "cell_type": "code",
   "execution_count": 4,
   "metadata": {},
   "outputs": [],
   "source": [
    "d2 = db.append(df)\n",
    "result = d2.to_csv(\"sarcasms.csv\",header = True, index = None)"
   ]
  },
  {
   "cell_type": "code",
   "execution_count": 5,
   "metadata": {},
   "outputs": [
    {
     "data": {
      "text/plain": [
       "0       1\n",
       "1       1\n",
       "2       1\n",
       "3       1\n",
       "4       1\n",
       "       ..\n",
       "1367    1\n",
       "1368    1\n",
       "1369    1\n",
       "1370    1\n",
       "1371    1\n",
       "Name: is_sarcasm, Length: 1372, dtype: int64"
      ]
     },
     "execution_count": 5,
     "metadata": {},
     "output_type": "execute_result"
    }
   ],
   "source": [
    "d = pd.read_csv(\"sarcasms.csv\")\n",
    "d['is_sarcasm']"
   ]
  },
  {
   "cell_type": "code",
   "execution_count": null,
   "metadata": {},
   "outputs": [],
   "source": []
  }
 ],
 "metadata": {
  "kernelspec": {
   "display_name": "Python 3.8.3 64-bit ('foo': conda)",
   "language": "python",
   "name": "python38364bitfoocondaa93fb2234420416a9eaa26ad5f935624"
  },
  "language_info": {
   "codemirror_mode": {
    "name": "ipython",
    "version": 3
   },
   "file_extension": ".py",
   "mimetype": "text/x-python",
   "name": "python",
   "nbconvert_exporter": "python",
   "pygments_lexer": "ipython3",
   "version": "3.8.3"
  }
 },
 "nbformat": 4,
 "nbformat_minor": 4
}
